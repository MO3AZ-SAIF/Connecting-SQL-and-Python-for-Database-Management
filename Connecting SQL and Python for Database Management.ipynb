{
 "cells": [
  {
   "attachments": {},
   "cell_type": "markdown",
   "metadata": {
    "id": "iZ4DqGJtdVpy"
   },
   "source": [
    "# **Connecting SQL and Python for Database Management**\n",
    "In this project, I integrated SQL with Python, created and managed a database, and performed data insertion using Python scripts, all without using SSMS. This experience enhanced my understanding of database management and reinforced the importance of automation in streamlining data workflows.\n",
    "\n",
    "**Technologies Used:**\n",
    "* T-SQL                   \n",
    "* Python\n",
    "* Pyodbc"
   ]
  },
  {
   "cell_type": "markdown",
   "metadata": {
    "id": "5MBJl0_6gOcD"
   },
   "source": [
    "### ***Import Libraries:***"
   ]
  },
  {
   "cell_type": "code",
   "execution_count": 62,
   "metadata": {
    "id": "_g5wSNt_fxM-"
   },
   "outputs": [],
   "source": [
    "import pyodbc as od\n",
    "import io"
   ]
  },
  {
   "cell_type": "markdown",
   "metadata": {},
   "source": [
    "### ***Create Connection Function:***"
   ]
  },
  {
   "cell_type": "code",
   "execution_count": 63,
   "metadata": {},
   "outputs": [],
   "source": [
    "def connect_to_database( database_name ):\n",
    "    try:\n",
    "        connection = od.connect(driver='{ODBC Driver 17 for SQL Server}',\n",
    "                                server='MOAAZ74',\n",
    "                                database=f'{database_name}',\n",
    "                                trusted_connection='yes')\n",
    "        connection.autocommit = True\n",
    "        return connection\n",
    "    except od.Error as ex:\n",
    "        print('There is an issuse:\\t', ex)"
   ]
  },
  {
   "cell_type": "markdown",
   "metadata": {
    "id": "V1QiJQikg6ou"
   },
   "source": [
    "### ***Connect to Master Database and Create database to do the work in:***"
   ]
  },
  {
   "cell_type": "code",
   "execution_count": 64,
   "metadata": {
    "colab": {
     "base_uri": "https://localhost:8080/"
    },
    "id": "kfEwawW-hgnZ",
    "outputId": "de2d691d-d52b-4670-f8ba-9c5fd39146db"
   },
   "outputs": [],
   "source": [
    "try:\n",
    "    con = connect_to_database( 'master' )\n",
    "    cursor = con.cursor()\n",
    "    sql = ''' IF NOT EXISTS (SELECT * FROM master.sys.databases WHERE name = N'firstdb')\n",
    "              BEGIN CREATE DATABASE firstdb; END '''\n",
    "    cursor.execute(sql)\n",
    "except od.Error as ex:\n",
    "    print('There is an issuse:\\t', ex)\n",
    "finally:\n",
    "    cursor.close()\n",
    "    con.close()"
   ]
  },
  {
   "cell_type": "markdown",
   "metadata": {},
   "source": [
    "### ***Connect to firstdb database and Create students table:***"
   ]
  },
  {
   "cell_type": "code",
   "execution_count": 65,
   "metadata": {
    "id": "bCOoc-SjiTDb"
   },
   "outputs": [],
   "source": [
    "try:\n",
    "    con = connect_to_database( 'firstdb' )\n",
    "    cursor = con.cursor()\n",
    "    sql = ''' IF NOT EXISTS (SELECT * FROM sys.tables WHERE name = N'students')\n",
    "                BEGIN\n",
    "                    CREATE TABLE students (\n",
    "                        student_id INT, \n",
    "                        name NVARCHAR(100),\n",
    "                        age INT, \n",
    "                        gender NVARCHAR(50), \n",
    "                        subject NVARCHAR(100), \n",
    "                        marks INT\n",
    "                    );\n",
    "                END'''\n",
    "    cursor.execute(sql)\n",
    "except od.Error as ex:\n",
    "    print('There is an issuse:\\t', ex)"
   ]
  },
  {
   "cell_type": "markdown",
   "metadata": {},
   "source": [
    "### ***Insert sample data in the table:***"
   ]
  },
  {
   "cell_type": "code",
   "execution_count": 66,
   "metadata": {
    "code_folding": []
   },
   "outputs": [],
   "source": [
    "try:\n",
    "    d = [(1, \"Raj\", 23, \"Male\", \"Python\", 85),( 2, \"Priya\", 22, \"Female\", \"Python\", 86)]\n",
    "    for i in d:\n",
    "        cursor.execute(\"INSERT INTO students (student_id, name, age, gender, subject, marks) \\\n",
    "                  VALUES (?, ?, ?, ?, ?, ?)\", i )\n",
    "except od.Error as ex:\n",
    "    print('There is an issuse:\\t', ex)"
   ]
  },
  {
   "attachments": {},
   "cell_type": "markdown",
   "metadata": {},
   "source": [
    "### **Validate your data was inserted into the table and close connections:**"
   ]
  },
  {
   "cell_type": "code",
   "execution_count": null,
   "metadata": {},
   "outputs": [],
   "source": [
    "try:\n",
    "    sql = ''' SELECT * FROM students'''\n",
    "    cursor.execute(sql)\n",
    "    for i in cursor:\n",
    "        print(i[0], i[1], i[2] , i[3], i[4] , i[5] )\n",
    "except od.Error as ex:\n",
    "    print('There is an issuse:\\t', ex)\n",
    "finally:\n",
    "    cursor.close()\n",
    "    con.close()"
   ]
  },
  {
   "cell_type": "markdown",
   "metadata": {},
   "source": [
    "---------------------------------------"
   ]
  },
  {
   "attachments": {},
   "cell_type": "markdown",
   "metadata": {},
   "source": [
    "### ***Author:***\n",
    "*Moaaz Abu-Saif Megahed Nasser*"
   ]
  },
  {
   "attachments": {},
   "cell_type": "markdown",
   "metadata": {},
   "source": [
    "## <h3 align=\"center\"> Thanks ❤️️ <h3/>"
   ]
  }
 ],
 "metadata": {
  "colab": {
   "collapsed_sections": [
    "5MBJl0_6gOcD"
   ],
   "provenance": []
  },
  "kernelspec": {
   "display_name": "Python 3 (ipykernel)",
   "language": "python",
   "name": "python3"
  },
  "language_info": {
   "codemirror_mode": {
    "name": "ipython",
    "version": 3
   },
   "file_extension": ".py",
   "mimetype": "text/x-python",
   "name": "python",
   "nbconvert_exporter": "python",
   "pygments_lexer": "ipython3",
   "version": "3.11.4 (tags/v3.11.4:d2340ef, Jun  7 2023, 05:45:37) [MSC v.1934 64 bit (AMD64)]"
  },
  "varInspector": {
   "cols": {
    "lenName": 16,
    "lenType": 16,
    "lenVar": 40
   },
   "kernels_config": {
    "python": {
     "delete_cmd_postfix": "",
     "delete_cmd_prefix": "del ",
     "library": "var_list.py",
     "varRefreshCmd": "print(var_dic_list())"
    },
    "r": {
     "delete_cmd_postfix": ") ",
     "delete_cmd_prefix": "rm(",
     "library": "var_list.r",
     "varRefreshCmd": "cat(var_dic_list()) "
    }
   },
   "types_to_exclude": [
    "module",
    "function",
    "builtin_function_or_method",
    "instance",
    "_Feature"
   ],
   "window_display": false
  },
  "vscode": {
   "interpreter": {
    "hash": "793e25807add4af491cca493526aa4a10fb5270a68eb90bde8b4378a08ec26cc"
   }
  }
 },
 "nbformat": 4,
 "nbformat_minor": 1
}
